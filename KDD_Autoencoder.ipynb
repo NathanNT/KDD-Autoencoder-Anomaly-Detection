{
 "cells": [
  {
   "cell_type": "markdown",
   "id": "7fe680c3",
   "metadata": {},
   "source": [
    "# Détection d'intrusion à l'aide d'un autoencodeur\n",
    "Nathan TBL"
   ]
  },
  {
   "cell_type": "markdown",
   "id": "bb25f29f",
   "metadata": {},
   "source": [
    "## • Importation des Bibliothèques et Chargement des Données\n",
    "Importation des bibliothèques nécessaires et définition d'une fonction pour charger et prétraiter les données en encodant les étiquettes et normalisant les valeurs."
   ]
  },
  {
   "cell_type": "code",
   "execution_count": 17,
   "id": "744bb020",
   "metadata": {},
   "outputs": [],
   "source": [
    "import pandas as pd\n",
    "import numpy as np\n",
    "import tensorflow as tf\n",
    "from sklearn.preprocessing import LabelEncoder, MinMaxScaler\n",
    "from sklearn.metrics import confusion_matrix, accuracy_score, precision_score, recall_score, mean_squared_error\n",
    "from tensorflow.keras.models import Model\n",
    "from tensorflow.keras.layers import Input, Dense, Dropout, LeakyReLU\n",
    "import matplotlib.pyplot as plt"
   ]
  },
  {
   "cell_type": "code",
   "execution_count": 18,
   "id": "de0ed067",
   "metadata": {},
   "outputs": [],
   "source": [
    "#Chargement et preprocessing des données \n",
    "def load_and_preprocess_data(file_path, filter_normal=True):\n",
    "    df = pd.read_csv(file_path, header=None)\n",
    "    \n",
    "    df = df.iloc[:, :-1] \n",
    "\n",
    "    # Binariser les étiquettes\n",
    "    labels = (df[df.columns[-1]] != 'normal').astype(int)  # 0 pour 'normal', 1 pour toutes les autres classes\n",
    "    \n",
    "    # Filtrer les lignes normales\n",
    "    if filter_normal:\n",
    "        df = df[df[df.columns[-1]] == 'normal']\n",
    "    \n",
    "    # Si aucune donnée ne reste après le filtrage, cela évitera une erreur lors de la normalisation\n",
    "    if df.empty:\n",
    "        return np.array([]), np.array([])\n",
    "    \n",
    "    X = df.drop(columns=[df.columns[-1]])\n",
    "    \n",
    "    # Encoder les colonnes de type object\n",
    "    for col in X.columns:\n",
    "        if X[col].dtype == 'object':\n",
    "            le = LabelEncoder()\n",
    "            X[col] = le.fit_transform(X[col])\n",
    "    \n",
    "    # Normalisation des données\n",
    "    scaler = MinMaxScaler()\n",
    "    X_scaled = scaler.fit_transform(X)\n",
    "    \n",
    "    return X_scaled, labels\n"
   ]
  },
  {
   "cell_type": "markdown",
   "id": "4810881a",
   "metadata": {},
   "source": [
    "## • Création du Modèle d'Autoencodeur\n",
    "Définition et compilation du modèle d'autoencodeur avec des couches d'encodage et de décodage. Chargement et prétraitement des données d'entraînement et de test."
   ]
  },
  {
   "cell_type": "code",
   "execution_count": 19,
   "id": "b19cb8b0",
   "metadata": {},
   "outputs": [],
   "source": [
    "def create_autoencoder(input_dim):    \n",
    "    # Couche d'entrée\n",
    "    input_layer = Input(shape=(input_dim,))\n",
    "    \n",
    "    # Couches d'encodage\n",
    "    encoded = Dense(512)(input_layer)\n",
    "    encoded = Dropout(0.5)(encoded)\n",
    "    encoded = LeakyReLU(0.01)(encoded)\n",
    "    encoded = Dense(256)(encoded)\n",
    "    encoded = Dropout(0.5)(encoded)\n",
    "    encoded = LeakyReLU(0.01)(encoded)\n",
    "    encoded = Dense(128)(encoded)\n",
    "    encoded = Dropout(0.5)(encoded)\n",
    "    encoded = LeakyReLU(0.01)(encoded)\n",
    "    \n",
    "    # Bottleneck\n",
    "    bottleneck = Dense(64)(encoded)\n",
    "    bottleneck = Dropout(0.5)(bottleneck)\n",
    "    bottleneck = LeakyReLU(0.01)(bottleneck)\n",
    "    \n",
    "    # Couches de décodage\n",
    "    decoded = Dense(128)(bottleneck)\n",
    "    decoded = Dropout(0.5)(decoded)\n",
    "    decoded = LeakyReLU(0.01)(decoded)\n",
    "    decoded = Dense(256)(decoded)\n",
    "    decoded = Dropout(0.5)(decoded)\n",
    "    decoded = LeakyReLU(0.01)(decoded)\n",
    "    decoded = Dense(512)(decoded)\n",
    "    decoded = Dropout(0.5)(decoded)\n",
    "    decoded = LeakyReLU(0.01)(decoded)\n",
    "    \n",
    "    # Couche de sortie\n",
    "    output_layer = Dense(input_dim, activation='sigmoid')(decoded)\n",
    "    \n",
    "    # Créer un nouveau modèle\n",
    "    autoencoder = Model(input_layer, output_layer)\n",
    "    autoencoder.compile(loss='categorical_crossentropy', optimizer='rmsprop')\n",
    "    return autoencoder"
   ]
  },
  {
   "cell_type": "code",
   "execution_count": 20,
   "id": "f41e68e7",
   "metadata": {},
   "outputs": [
    {
     "name": "stdout",
     "output_type": "stream",
     "text": [
      "Model: \"model_1\"\n",
      "_________________________________________________________________\n",
      "Layer (type)                 Output Shape              Param #   \n",
      "=================================================================\n",
      "input_3 (InputLayer)         [(None, 41)]              0         \n",
      "_________________________________________________________________\n",
      "dense_8 (Dense)              (None, 512)               21504     \n",
      "_________________________________________________________________\n",
      "dropout_7 (Dropout)          (None, 512)               0         \n",
      "_________________________________________________________________\n",
      "leaky_re_lu_7 (LeakyReLU)    (None, 512)               0         \n",
      "_________________________________________________________________\n",
      "dense_9 (Dense)              (None, 256)               131328    \n",
      "_________________________________________________________________\n",
      "dropout_8 (Dropout)          (None, 256)               0         \n",
      "_________________________________________________________________\n",
      "leaky_re_lu_8 (LeakyReLU)    (None, 256)               0         \n",
      "_________________________________________________________________\n",
      "dense_10 (Dense)             (None, 128)               32896     \n",
      "_________________________________________________________________\n",
      "dropout_9 (Dropout)          (None, 128)               0         \n",
      "_________________________________________________________________\n",
      "leaky_re_lu_9 (LeakyReLU)    (None, 128)               0         \n",
      "_________________________________________________________________\n",
      "dense_11 (Dense)             (None, 64)                8256      \n",
      "_________________________________________________________________\n",
      "dropout_10 (Dropout)         (None, 64)                0         \n",
      "_________________________________________________________________\n",
      "leaky_re_lu_10 (LeakyReLU)   (None, 64)                0         \n",
      "_________________________________________________________________\n",
      "dense_12 (Dense)             (None, 128)               8320      \n",
      "_________________________________________________________________\n",
      "dropout_11 (Dropout)         (None, 128)               0         \n",
      "_________________________________________________________________\n",
      "leaky_re_lu_11 (LeakyReLU)   (None, 128)               0         \n",
      "_________________________________________________________________\n",
      "dense_13 (Dense)             (None, 256)               33024     \n",
      "_________________________________________________________________\n",
      "dropout_12 (Dropout)         (None, 256)               0         \n",
      "_________________________________________________________________\n",
      "leaky_re_lu_12 (LeakyReLU)   (None, 256)               0         \n",
      "_________________________________________________________________\n",
      "dense_14 (Dense)             (None, 512)               131584    \n",
      "_________________________________________________________________\n",
      "dropout_13 (Dropout)         (None, 512)               0         \n",
      "_________________________________________________________________\n",
      "leaky_re_lu_13 (LeakyReLU)   (None, 512)               0         \n",
      "_________________________________________________________________\n",
      "dense_15 (Dense)             (None, 41)                21033     \n",
      "=================================================================\n",
      "Total params: 387,945\n",
      "Trainable params: 387,945\n",
      "Non-trainable params: 0\n",
      "_________________________________________________________________\n",
      "None\n"
     ]
    }
   ],
   "source": [
    "# Appel des fonctions de prétraitement et création de l'autoencodeur\n",
    "train_file_path = './datasets/KDD/KDDTrain+.txt'\n",
    "test_file_path = './datasets/KDD/KDDTest+.txt'\n",
    "\n",
    "train_data, train_labels = load_and_preprocess_data(train_file_path, filter_normal=True)\n",
    "test_data, test_labels = load_and_preprocess_data(test_file_path, filter_normal=False)\n",
    "\n",
    "autoencoder = create_autoencoder(train_data.shape[1])\n",
    "print(autoencoder.summary())"
   ]
  },
  {
   "cell_type": "markdown",
   "id": "93ab41ab",
   "metadata": {},
   "source": [
    "## • Entraînement du Modèle\n",
    "Entraînement du modèle d'autoencodeur sur les données d'entraînement et traçage des pertes d'entraînement et de validation au fil des époques."
   ]
  },
  {
   "cell_type": "code",
   "execution_count": 21,
   "id": "5d3fff13",
   "metadata": {},
   "outputs": [
    {
     "name": "stdout",
     "output_type": "stream",
     "text": [
      "Train on 67343 samples, validate on 22544 samples\n",
      "Epoch 1/30\n",
      "67343/67343 [==============================] - 2s 31us/sample - loss: 15.1804 - val_loss: 18.4402\n",
      "Epoch 2/30\n",
      "67343/67343 [==============================] - 2s 25us/sample - loss: 14.2605 - val_loss: 17.7808\n",
      "Epoch 3/30\n",
      "67343/67343 [==============================] - 2s 25us/sample - loss: 14.0753 - val_loss: 17.4352\n",
      "Epoch 4/30\n",
      "67343/67343 [==============================] - 2s 25us/sample - loss: 13.9948 - val_loss: 17.4174\n",
      "Epoch 5/30\n",
      "67343/67343 [==============================] - 2s 25us/sample - loss: 13.9440 - val_loss: 17.3120\n",
      "Epoch 6/30\n",
      "67343/67343 [==============================] - 2s 25us/sample - loss: 13.9064 - val_loss: 17.2479\n",
      "Epoch 7/30\n",
      "67343/67343 [==============================] - 2s 25us/sample - loss: 13.8755 - val_loss: 17.2060\n",
      "Epoch 8/30\n",
      "67343/67343 [==============================] - 2s 25us/sample - loss: 13.8532 - val_loss: 17.0471\n",
      "Epoch 9/30\n",
      "67343/67343 [==============================] - 2s 29us/sample - loss: 13.8310 - val_loss: 16.9750\n",
      "Epoch 10/30\n",
      "67343/67343 [==============================] - 2s 30us/sample - loss: 13.8176 - val_loss: 16.9242\n",
      "Epoch 11/30\n",
      "67343/67343 [==============================] - 2s 29us/sample - loss: 13.8000 - val_loss: 16.9881\n",
      "Epoch 12/30\n",
      "67343/67343 [==============================] - 2s 29us/sample - loss: 13.7922 - val_loss: 16.9020\n",
      "Epoch 13/30\n",
      "67343/67343 [==============================] - 2s 29us/sample - loss: 13.7755 - val_loss: 16.9656\n",
      "Epoch 14/30\n",
      "67343/67343 [==============================] - 2s 29us/sample - loss: 13.7652 - val_loss: 17.1064\n",
      "Epoch 15/30\n",
      "67343/67343 [==============================] - 2s 27us/sample - loss: 13.7566 - val_loss: 16.9187\n",
      "Epoch 16/30\n",
      "67343/67343 [==============================] - 2s 29us/sample - loss: 13.7489 - val_loss: 16.8620\n",
      "Epoch 17/30\n",
      "67343/67343 [==============================] - 2s 28us/sample - loss: 13.7448 - val_loss: 16.8070\n",
      "Epoch 18/30\n",
      "67343/67343 [==============================] - 2s 26us/sample - loss: 13.7397 - val_loss: 16.7651\n",
      "Epoch 19/30\n",
      "67343/67343 [==============================] - 2s 25us/sample - loss: 13.7324 - val_loss: 16.7547\n",
      "Epoch 20/30\n",
      "67343/67343 [==============================] - 2s 25us/sample - loss: 13.7292 - val_loss: 16.8390\n",
      "Epoch 21/30\n",
      "67343/67343 [==============================] - 2s 25us/sample - loss: 13.7265 - val_loss: 16.8117\n",
      "Epoch 22/30\n",
      "67343/67343 [==============================] - 2s 26us/sample - loss: 13.7205 - val_loss: 16.8085\n",
      "Epoch 23/30\n",
      "67343/67343 [==============================] - 2s 25us/sample - loss: 13.7174 - val_loss: 16.8583\n",
      "Epoch 24/30\n",
      "67343/67343 [==============================] - 2s 25us/sample - loss: 13.7157 - val_loss: 17.0714\n",
      "Epoch 25/30\n",
      "67343/67343 [==============================] - 2s 25us/sample - loss: 13.7121 - val_loss: 16.7993\n",
      "Epoch 26/30\n",
      "67343/67343 [==============================] - 2s 25us/sample - loss: 13.7098 - val_loss: 16.9514\n",
      "Epoch 27/30\n",
      "67343/67343 [==============================] - 2s 25us/sample - loss: 13.7079 - val_loss: 16.6504\n",
      "Epoch 28/30\n",
      "67343/67343 [==============================] - 2s 25us/sample - loss: 13.7056 - val_loss: 16.7175\n",
      "Epoch 29/30\n",
      "67343/67343 [==============================] - 2s 26us/sample - loss: 13.7035 - val_loss: 16.8200\n",
      "Epoch 30/30\n",
      "67343/67343 [==============================] - 2s 25us/sample - loss: 13.6987 - val_loss: 16.9478\n"
     ]
    }
   ],
   "source": [
    "# Entrainement du modèle\n",
    "history = autoencoder.fit(train_data, train_data, \n",
    "                          epochs=30,  # Using 30 epochs as specified\n",
    "                          batch_size=256,  \n",
    "                          shuffle=True, \n",
    "                          validation_data=(test_data, test_data))"
   ]
  },
  {
   "cell_type": "code",
   "execution_count": 22,
   "id": "c368bdad",
   "metadata": {},
   "outputs": [
    {
     "data": {
      "image/png": "[encoded data removed]",
      "text/plain": [
       "<Figure size 640x480 with 1 Axes>"
      ]
     },
     "metadata": {},
     "output_type": "display_data"
    }
   ],
   "source": [
    "# Afficher le graphique d'entrainement\n",
    "plt.plot(history.history['loss'], label='Training Loss')\n",
    "plt.plot(history.history['val_loss'], label='Validation Loss')\n",
    "plt.title('Model Loss Over Epochs')\n",
    "plt.ylabel('Loss')\n",
    "plt.xlabel('Epoch')\n",
    "plt.legend()\n",
    "plt.show()"
   ]
  },
  {
   "cell_type": "markdown",
   "id": "78e45e5c",
   "metadata": {},
   "source": [
    "## • Inference et Détection des Anomalies / Évaluation des Performances\n",
    "\n",
    "Prédiction sur les données de test avec l'autoencodeur, calcul de l'erreur quadratique moyenne pour chaque échantillon, et détermination d'un seuil basé sur le 40ème percentile pour détecter les anomalies."
   ]
  },
  {
   "cell_type": "code",
   "execution_count": 23,
   "id": "2afa6b78",
   "metadata": {},
   "outputs": [
    {
     "name": "stdout",
     "output_type": "stream",
     "text": [
      "MSE Threshold for 40th percentile to detect anomalies: 0.002049649713781928\n",
      "Metrics for the selected threshold:\n",
      "Confusion Matrix:\n",
      "[[ 7871  1840]\n",
      " [ 1147 11686]]\n",
      "Accuracy: 0.8675035486160397\n",
      "Precision: 0.8639656956971759\n",
      "Recall: 0.91062105509234\n"
     ]
    }
   ],
   "source": [
    "# Inference sur les données de test\n",
    "X_pred = autoencoder.predict(test_data)\n",
    "\n",
    "# Calculer l'erreur  moyenne\n",
    "mse = np.mean(np.power(test_data - X_pred, 2), axis=1)\n",
    "\n",
    "# Seuil de detection de 40 basé sur le percentile\n",
    "threshold_value = np.percentile(mse, 40)\n",
    "print(f\"MSE Threshold for {40}th percentile to detect anomalies:\", threshold_value)\n",
    "\n",
    "# Détecter les anomalies (1 si MSE est au-dessus du seuil)\n",
    "anomalies = mse > threshold_value\n",
    "\n",
    "# Calculer les métriques pour le seuil sélectionné\n",
    "print(\"Metrics for the selected threshold:\")\n",
    "print(\"Confusion Matrix:\")\n",
    "print(confusion_matrix(test_labels, anomalies))\n",
    "print(\"Accuracy:\", accuracy_score(test_labels, anomalies))\n",
    "print(\"Precision:\", precision_score(test_labels, anomalies))\n",
    "print(\"Recall:\", recall_score(test_labels, anomalies))"
   ]
  },
  {
   "cell_type": "code",
   "execution_count": 24,
   "id": "06b3b1ca",
   "metadata": {},
   "outputs": [],
   "source": [
    "# Sauvegarder le modèle\n",
    "autoencoder.save('autoencoder_network_trafic_model.h5')"
   ]
  },
  {
   "cell_type": "code",
   "execution_count": null,
   "id": "e32b7a81",
   "metadata": {},
   "outputs": [],
   "source": []
  }
 ],
 "metadata": {
  "kernelspec": {
   "display_name": "Python 3 (ipykernel)",
   "language": "python",
   "name": "python3"
  },
  "language_info": {
   "codemirror_mode": {
    "name": "ipython",
    "version": 3
   },
   "file_extension": ".py",
   "mimetype": "text/x-python",
   "name": "python",
   "nbconvert_exporter": "python",
   "pygments_lexer": "ipython3",
   "version": "3.7.0"
  }
 },
 "nbformat": 4,
 "nbformat_minor": 5
}
